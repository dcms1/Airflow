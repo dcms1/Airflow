{
 "cells": [
  {
   "cell_type": "code",
   "execution_count": 1,
   "id": "7e00f14c-ccd7-4662-8ce1-f2a52af63ad2",
   "metadata": {},
   "outputs": [],
   "source": [
    "import requests\n",
    "import json\n",
    "import dotenv\n",
    "import os\n",
    "import datetime\n",
    "from datetime import timedelta,datetime,timezone"
   ]
  },
  {
   "cell_type": "code",
   "execution_count": 2,
   "id": "0d11ad54-c042-45f1-937a-4a8c6248a50a",
   "metadata": {},
   "outputs": [
    {
     "name": "stdout",
     "output_type": "stream",
     "text": [
      "AAAAAAAAAAAAAAAAAAAAAPhVXAEAAAAAzAG3%2FqJVgjc%2BoIV6fz8X7r%2FoG14%3DJCijCvKhyjd74Zl0RkE9vhYVlx8YVq2k3qdfqpeZ0hOJb4OOcd\n"
     ]
    }
   ],
   "source": [
    "dotenv.load_dotenv(dotenv.find_dotenv())\n",
    "print(os.getenv(\"bearer_token_tt\"))"
   ]
  },
  {
   "cell_type": "code",
   "execution_count": 3,
   "id": "e5a2797a-0e5b-4ece-b311-b985f16a9ec2",
   "metadata": {},
   "outputs": [],
   "source": [
    "# To set your enviornment variables in your terminal run the following line:\n",
    "# export 'BEARER_TOKEN'='<your_bearer_token>'\n",
    "delta = timedelta(days=1)\n",
    "start_time = (datetime.now().replace(hour=00, minute= 00, second=0) - delta).strftime(\"%Y-%m-%dT%H:%M:%SZ\")\n",
    "end_time = (datetime.now().replace(hour=23, minute= 59, second=59) - delta).strftime(\"%Y-%m-%dT%H:%M:%SZ\")\n"
   ]
  },
  {
   "cell_type": "code",
   "execution_count": 4,
   "id": "fa4e7235",
   "metadata": {},
   "outputs": [
    {
     "data": {
      "text/plain": [
       "'2021-12-19T23:59:59Z'"
      ]
     },
     "execution_count": 4,
     "metadata": {},
     "output_type": "execute_result"
    }
   ],
   "source": [
    "end_time"
   ]
  },
  {
   "cell_type": "code",
   "execution_count": 5,
   "id": "669bd1e2",
   "metadata": {},
   "outputs": [
    {
     "data": {
      "text/plain": [
       "'2021-12-19T00:00:00Z'"
      ]
     },
     "execution_count": 5,
     "metadata": {},
     "output_type": "execute_result"
    }
   ],
   "source": [
    "start_time"
   ]
  },
  {
   "cell_type": "code",
   "execution_count": 6,
   "id": "169a1556-b7ea-4dca-8226-f8d35632ced5",
   "metadata": {},
   "outputs": [],
   "source": [
    "def auth():\n",
    "    return os.getenv(\"bearer_token_tt\")"
   ]
  },
  {
   "cell_type": "code",
   "execution_count": 7,
   "id": "8020fd67-ef5c-4169-85f5-cc74fdaa70a3",
   "metadata": {},
   "outputs": [],
   "source": [
    "def create_url(start_time,end_time):\n",
    "    query = \"spider-man\"\n",
    "    # Tweet fields are adjustable.\n",
    "    # Options include:\n",
    "    # attachments, author_id, context_annotations,\n",
    "    # conversation_id, created_at, entities, geo, id,\n",
    "    # in_reply_to_user_id, lang, non_public_metrics, organic_metrics,\n",
    "    # possibly_sensitive, promoted_metrics, public_metrics, referenced_tweets,\n",
    "    # source, text, and withheld\n",
    "    tweet_fields = \"tweet.fields=author_id,possibly_sensitive,conversation_id,created_at,text,public_metrics\"\n",
    "    filters = f'start_time={start_time}&end_time={end_time}'\n",
    "    url = \"https://api.twitter.com/2/tweets/search/recent?query={}&{}&{}\".format(\n",
    "        query, tweet_fields,filters\n",
    "    )\n",
    "    return url"
   ]
  },
  {
   "cell_type": "code",
   "execution_count": 8,
   "id": "8c6fb034-c320-42aa-a683-e211aa707f79",
   "metadata": {},
   "outputs": [],
   "source": [
    "create_url(start_time,end_time)\n",
    "lista=[]"
   ]
  },
  {
   "cell_type": "code",
   "execution_count": 9,
   "id": "7f13b3b5-b9e3-4c14-9057-00c7f7008aaa",
   "metadata": {},
   "outputs": [
    {
     "name": "stdout",
     "output_type": "stream",
     "text": [
      "200\n",
      "{\n",
      "    \"data\": [\n",
      "        {\n",
      "            \"author_id\": \"718860885553516545\",\n",
      "            \"conversation_id\": \"1472718382998986758\",\n",
      "            \"created_at\": \"2021-12-19T23:59:58.000Z\",\n",
      "            \"id\": \"1472718382998986758\",\n",
      "            \"possibly_sensitive\": false,\n",
      "            \"public_metrics\": {\n",
      "                \"like_count\": 0,\n",
      "                \"quote_count\": 0,\n",
      "                \"reply_count\": 0,\n",
      "                \"retweet_count\": 2044\n",
      "            },\n",
      "            \"text\": \"RT @AgentedeMarvel_: Ojal\\u00e1 olvidar haber visto Spider-Man: No Way Home para volverla a ver como la primera vez.\"\n",
      "        },\n",
      "        {\n",
      "            \"author_id\": \"3051468725\",\n",
      "            \"conversation_id\": \"1472718382696914948\",\n",
      "            \"created_at\": \"2021-12-19T23:59:58.000Z\",\n",
      "            \"id\": \"1472718382696914948\",\n",
      "            \"possibly_sensitive\": false,\n",
      "            \"public_metrics\": {\n",
      "                \"like_count\": 0,\n",
      "                \"quote_count\": 0,\n",
      "                \"reply_count\": 0,\n",
      "                \"retweet_count\": 120\n",
      "            },\n",
      "            \"text\": \"RT @3stebeland: Spider-Man: No Way Home s\\u00f3 aconteceu pq o Peter Parker pediu ajuda ao bruxo errado:\\n\\nHermione Granger usou um encantamento\\u2026\"\n",
      "        },\n",
      "        {\n",
      "            \"author_id\": \"1455426155960541184\",\n",
      "            \"conversation_id\": \"1472718381862334466\",\n",
      "            \"created_at\": \"2021-12-19T23:59:58.000Z\",\n",
      "            \"id\": \"1472718381862334466\",\n",
      "            \"possibly_sensitive\": false,\n",
      "            \"public_metrics\": {\n",
      "                \"like_count\": 0,\n",
      "                \"quote_count\": 0,\n",
      "                \"reply_count\": 0,\n",
      "                \"retweet_count\": 92\n",
      "            },\n",
      "            \"text\": \"RT @big_business_: Gambling on sports ain\\u2019t the move, now the only thing you can buy is Spider-Man socks for your little nieces and nephews\\u2026\"\n",
      "        },\n",
      "        {\n",
      "            \"author_id\": \"1044661707875004416\",\n",
      "            \"conversation_id\": \"1472718380947890180\",\n",
      "            \"created_at\": \"2021-12-19T23:59:58.000Z\",\n",
      "            \"id\": \"1472718380947890180\",\n",
      "            \"possibly_sensitive\": false,\n",
      "            \"public_metrics\": {\n",
      "                \"like_count\": 3,\n",
      "                \"quote_count\": 0,\n",
      "                \"reply_count\": 1,\n",
      "                \"retweet_count\": 0\n",
      "            },\n",
      "            \"text\": \"Comic book nerds screeched &amp; cried when Tim Drake came out as bi lmao imagine what happens when Spider-Man does too https://t.co/8iYEZUtEDp\"\n",
      "        },\n",
      "        {\n",
      "            \"author_id\": \"1266218822589186052\",\n",
      "            \"conversation_id\": \"1472718378758557697\",\n",
      "            \"created_at\": \"2021-12-19T23:59:57.000Z\",\n",
      "            \"id\": \"1472718378758557697\",\n",
      "            \"possibly_sensitive\": false,\n",
      "            \"public_metrics\": {\n",
      "                \"like_count\": 0,\n",
      "                \"quote_count\": 0,\n",
      "                \"reply_count\": 0,\n",
      "                \"retweet_count\": 2\n",
      "            },\n",
      "            \"text\": \"RT @NickyRa3: Thank you Yunho for being my date to Spider-Man \\u2764\\ufe0f\\ud83d\\udd77 https://t.co/atPqkg7Wp1\"\n",
      "        },\n",
      "        {\n",
      "            \"author_id\": \"1103767795735687185\",\n",
      "            \"conversation_id\": \"1472718378259337221\",\n",
      "            \"created_at\": \"2021-12-19T23:59:57.000Z\",\n",
      "            \"id\": \"1472718378259337221\",\n",
      "            \"possibly_sensitive\": false,\n",
      "            \"public_metrics\": {\n",
      "                \"like_count\": 0,\n",
      "                \"quote_count\": 0,\n",
      "                \"reply_count\": 0,\n",
      "                \"retweet_count\": 2624\n",
      "            },\n",
      "            \"text\": \"RT @AgentedeMarvel_: \\u00a1El nuevo traje de Spider-Man! https://t.co/OX25tEPQ58\"\n",
      "        },\n",
      "        {\n",
      "            \"author_id\": \"1458220090122461187\",\n",
      "            \"conversation_id\": \"1472718377537916934\",\n",
      "            \"created_at\": \"2021-12-19T23:59:57.000Z\",\n",
      "            \"id\": \"1472718377537916934\",\n",
      "            \"possibly_sensitive\": false,\n",
      "            \"public_metrics\": {\n",
      "                \"like_count\": 0,\n",
      "                \"quote_count\": 0,\n",
      "                \"reply_count\": 0,\n",
      "                \"retweet_count\": 359\n",
      "            },\n",
      "            \"text\": \"RT @euubu: she green goblin on my nft bing bong spider-man no way home omori iphone 13 pro chainsaw man\"\n",
      "        },\n",
      "        {\n",
      "            \"author_id\": \"2594179963\",\n",
      "            \"conversation_id\": \"1472718377466707969\",\n",
      "            \"created_at\": \"2021-12-19T23:59:57.000Z\",\n",
      "            \"id\": \"1472718377466707969\",\n",
      "            \"possibly_sensitive\": false,\n",
      "            \"public_metrics\": {\n",
      "                \"like_count\": 0,\n",
      "                \"quote_count\": 0,\n",
      "                \"reply_count\": 0,\n",
      "                \"retweet_count\": 2825\n",
      "            },\n",
      "            \"text\": \"RT @buckleybabe: how many spider-man movies need to come out before they finally admit he\\u2019s canonically bisexual\"\n",
      "        },\n",
      "        {\n",
      "            \"author_id\": \"1226237848271097856\",\n",
      "            \"conversation_id\": \"1472718377084936197\",\n",
      "            \"created_at\": \"2021-12-19T23:59:57.000Z\",\n",
      "            \"id\": \"1472718377084936197\",\n",
      "            \"possibly_sensitive\": false,\n",
      "            \"public_metrics\": {\n",
      "                \"like_count\": 0,\n",
      "                \"quote_count\": 0,\n",
      "                \"reply_count\": 0,\n",
      "                \"retweet_count\": 4\n",
      "            },\n",
      "            \"text\": \"RT @heartshapedshp: I didn\\u2019t even plan for my Spidey Koo phone charms to be up for preorder the same weekend as the new Spider-Man movie bu\\u2026\"\n",
      "        },\n",
      "        {\n",
      "            \"author_id\": \"2331816126\",\n",
      "            \"conversation_id\": \"1472718376753582081\",\n",
      "            \"created_at\": \"2021-12-19T23:59:57.000Z\",\n",
      "            \"id\": \"1472718376753582081\",\n",
      "            \"possibly_sensitive\": false,\n",
      "            \"public_metrics\": {\n",
      "                \"like_count\": 0,\n",
      "                \"quote_count\": 0,\n",
      "                \"reply_count\": 0,\n",
      "                \"retweet_count\": 35\n",
      "            },\n",
      "            \"text\": \"RT @Elliott_Bull2: Okay here me out: \\nAnya Taylor-Joy as Felicia Hardy aka Black Cat alongside with Tom Holland's Spider-Man in his next tr\\u2026\"\n",
      "        }\n",
      "    ],\n",
      "    \"meta\": {\n",
      "        \"newest_id\": \"1472718382998986758\",\n",
      "        \"next_token\": \"b26v89c19zqg8o3fpe166s40qqc2pz1v1knl97kue5uv1\",\n",
      "        \"oldest_id\": \"1472718376753582081\",\n",
      "        \"result_count\": 10\n",
      "    }\n",
      "}\n"
     ]
    }
   ],
   "source": [
    "def create_headers(bearer_token):\n",
    "    headers = {\"Authorization\": \"Bearer {}\".format(bearer_token)}\n",
    "    return headers\n",
    "\n",
    "\n",
    "def connect_to_endpoint(url, headers):\n",
    "    response = requests.request(\"GET\", url, headers=headers)\n",
    "    print(response.status_code)\n",
    "    if response.status_code != 200:\n",
    "        raise Exception(response.status_code, response.text)\n",
    "    return response.json()\n",
    "\n",
    "\n",
    "def next_page(url,headers,next_token=\"\"):\n",
    "    if next_token:\n",
    "        full_url = f\"{url}&next_token={next_token}\"\n",
    "    else:\n",
    "        full_url = url\n",
    "    data = connect_to_endpoint(full_url, headers)\n",
    "    yield data\n",
    "    if \"next-token\" in data.get(\"meta\",{}):\n",
    "        yield from next_page(url, headers,data[\"meta\"][\"next_token\"])\n",
    "    \n",
    "    \n",
    "def main():\n",
    "    bearer_token = auth()\n",
    "    url = create_url(start_time,end_time)\n",
    "    headers = create_headers(bearer_token)\n",
    "    for json_response in next_page(url,headers):\n",
    "        print(json.dumps(json_response, indent=4, sort_keys=True))\n",
    "\n",
    "if __name__ == \"__main__\":\n",
    "    main()"
   ]
  },
  {
   "cell_type": "code",
   "execution_count": 51,
   "id": "eea29070-ad9b-455d-a000-b159ff69b98c",
   "metadata": {},
   "outputs": [
    {
     "data": {
      "text/plain": [
       "[]"
      ]
     },
     "execution_count": 51,
     "metadata": {},
     "output_type": "execute_result"
    }
   ],
   "source": [
    "lista"
   ]
  },
  {
   "cell_type": "code",
   "execution_count": null,
   "id": "21dea4ac",
   "metadata": {},
   "outputs": [],
   "source": []
  }
 ],
 "metadata": {
  "kernelspec": {
   "display_name": "Python 3 (ipykernel)",
   "language": "python",
   "name": "python3"
  },
  "language_info": {
   "codemirror_mode": {
    "name": "ipython",
    "version": 3
   },
   "file_extension": ".py",
   "mimetype": "text/x-python",
   "name": "python",
   "nbconvert_exporter": "python",
   "pygments_lexer": "ipython3",
   "version": "3.8.10"
  }
 },
 "nbformat": 4,
 "nbformat_minor": 5
}
